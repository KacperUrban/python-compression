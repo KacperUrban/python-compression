{
 "cells": [
  {
   "cell_type": "code",
   "execution_count": 2,
   "metadata": {},
   "outputs": [],
   "source": [
    "import matplotlib.pyplot as plt\n",
    "import pandas as pd\n",
    "import os"
   ]
  },
  {
   "cell_type": "code",
   "execution_count": 6,
   "metadata": {},
   "outputs": [
    {
     "name": "stdout",
     "output_type": "stream",
     "text": [
      "[1001, 5008, 10016, 50162, 100333, 279329, 1075874]\n"
     ]
    }
   ],
   "source": [
    "filenames = [\"1kb.txt\", \"5kb.txt\", \"10kb.txt\", \"50kb.txt\", \"100kb.txt\", \"280kb.txt\", \"1.1Mb.txt\"]\n",
    "first_data = []\n",
    "for filename in filenames:\n",
    "    first_data.append(os.path.getsize(\"data/\" + filename))\n",
    "print(first_data)"
   ]
  },
  {
   "cell_type": "code",
   "execution_count": 8,
   "metadata": {},
   "outputs": [
    {
     "name": "stdout",
     "output_type": "stream",
     "text": [
      "[27919, 139807, 280000, 1398158, 2793866, 7498423, 28946824]\n"
     ]
    }
   ],
   "source": [
    "filenames = [\"1kb.txt\", \"5kb.txt\", \"10kb.txt\", \"50kb.txt\", \"100kb.txt\", \"280kb.txt\", \"1.1Mb.txt\"]\n",
    "compressed_data = []\n",
    "for filename in filenames:\n",
    "    compressed_data.append(os.path.getsize(\"compressed/\" + filename + \"-compressed\"))\n",
    "print(compressed_data)"
   ]
  },
  {
   "cell_type": "code",
   "execution_count": 15,
   "metadata": {},
   "outputs": [
    {
     "data": {
      "text/html": [
       "<div>\n",
       "<style scoped>\n",
       "    .dataframe tbody tr th:only-of-type {\n",
       "        vertical-align: middle;\n",
       "    }\n",
       "\n",
       "    .dataframe tbody tr th {\n",
       "        vertical-align: top;\n",
       "    }\n",
       "\n",
       "    .dataframe thead th {\n",
       "        text-align: right;\n",
       "    }\n",
       "</style>\n",
       "<table border=\"1\" class=\"dataframe\">\n",
       "  <thead>\n",
       "    <tr style=\"text-align: right;\">\n",
       "      <th></th>\n",
       "      <th>before_compress</th>\n",
       "      <th>after_compress</th>\n",
       "    </tr>\n",
       "  </thead>\n",
       "  <tbody>\n",
       "    <tr>\n",
       "      <th>0</th>\n",
       "      <td>1001</td>\n",
       "      <td>27919</td>\n",
       "    </tr>\n",
       "    <tr>\n",
       "      <th>1</th>\n",
       "      <td>5008</td>\n",
       "      <td>139807</td>\n",
       "    </tr>\n",
       "    <tr>\n",
       "      <th>2</th>\n",
       "      <td>10016</td>\n",
       "      <td>280000</td>\n",
       "    </tr>\n",
       "    <tr>\n",
       "      <th>3</th>\n",
       "      <td>50162</td>\n",
       "      <td>1398158</td>\n",
       "    </tr>\n",
       "    <tr>\n",
       "      <th>4</th>\n",
       "      <td>100333</td>\n",
       "      <td>2793866</td>\n",
       "    </tr>\n",
       "    <tr>\n",
       "      <th>5</th>\n",
       "      <td>279329</td>\n",
       "      <td>7498423</td>\n",
       "    </tr>\n",
       "    <tr>\n",
       "      <th>6</th>\n",
       "      <td>1075874</td>\n",
       "      <td>28946824</td>\n",
       "    </tr>\n",
       "  </tbody>\n",
       "</table>\n",
       "</div>"
      ],
      "text/plain": [
       "   before_compress  after_compress\n",
       "0             1001           27919\n",
       "1             5008          139807\n",
       "2            10016          280000\n",
       "3            50162         1398158\n",
       "4           100333         2793866\n",
       "5           279329         7498423\n",
       "6          1075874        28946824"
      ]
     },
     "execution_count": 15,
     "metadata": {},
     "output_type": "execute_result"
    }
   ],
   "source": [
    "pd_first_compressed = pd.DataFrame({\"before_compress\": first_data, \"after_compress\": compressed_data})\n",
    "pd_first_compressed"
   ]
  },
  {
   "cell_type": "code",
   "execution_count": 23,
   "metadata": {},
   "outputs": [
    {
     "data": {
      "image/png": "[encoded data removed]",
      "text/plain": [
       "<Figure size 432x288 with 1 Axes>"
      ]
     },
     "metadata": {
      "needs_background": "light"
     },
     "output_type": "display_data"
    }
   ],
   "source": [
    "plt.title(\"Size of file\")\n",
    "plt.plot(pd_first_compressed.iloc[:, 1], label=\"compressed\")\n",
    "plt.plot(pd_first_compressed.iloc[:, 0], label=\"before compression\")\n",
    "plt.legend(loc=\"upper left\")\n",
    "plt.show()"
   ]
  },
  {
   "cell_type": "code",
   "execution_count": 24,
   "metadata": {},
   "outputs": [
    {
     "name": "stdout",
     "output_type": "stream",
     "text": [
      "[16165, 81233, 161339, 806170, 1611096, 5640133, 18517215]\n"
     ]
    }
   ],
   "source": [
    "filenames = [\"1kb.txt\", \"5kb.txt\", \"10kb.txt\", \"50kb.txt\", \"100kb.txt\", \"280kb.txt\", \"1.1Mb.txt\"]\n",
    "compressed_data = []\n",
    "for filename in filenames:\n",
    "    compressed_data.append(os.path.getsize(\"only_compressed/\" + filename + \"-compressed\"))\n",
    "print(compressed_data)"
   ]
  },
  {
   "cell_type": "code",
   "execution_count": 25,
   "metadata": {},
   "outputs": [
    {
     "data": {
      "text/html": [
       "<div>\n",
       "<style scoped>\n",
       "    .dataframe tbody tr th:only-of-type {\n",
       "        vertical-align: middle;\n",
       "    }\n",
       "\n",
       "    .dataframe tbody tr th {\n",
       "        vertical-align: top;\n",
       "    }\n",
       "\n",
       "    .dataframe thead th {\n",
       "        text-align: right;\n",
       "    }\n",
       "</style>\n",
       "<table border=\"1\" class=\"dataframe\">\n",
       "  <thead>\n",
       "    <tr style=\"text-align: right;\">\n",
       "      <th></th>\n",
       "      <th>before_compress</th>\n",
       "      <th>after_compress</th>\n",
       "    </tr>\n",
       "  </thead>\n",
       "  <tbody>\n",
       "    <tr>\n",
       "      <th>0</th>\n",
       "      <td>1001</td>\n",
       "      <td>16165</td>\n",
       "    </tr>\n",
       "    <tr>\n",
       "      <th>1</th>\n",
       "      <td>5008</td>\n",
       "      <td>81233</td>\n",
       "    </tr>\n",
       "    <tr>\n",
       "      <th>2</th>\n",
       "      <td>10016</td>\n",
       "      <td>161339</td>\n",
       "    </tr>\n",
       "    <tr>\n",
       "      <th>3</th>\n",
       "      <td>50162</td>\n",
       "      <td>806170</td>\n",
       "    </tr>\n",
       "    <tr>\n",
       "      <th>4</th>\n",
       "      <td>100333</td>\n",
       "      <td>1611096</td>\n",
       "    </tr>\n",
       "    <tr>\n",
       "      <th>5</th>\n",
       "      <td>279329</td>\n",
       "      <td>5640133</td>\n",
       "    </tr>\n",
       "    <tr>\n",
       "      <th>6</th>\n",
       "      <td>1075874</td>\n",
       "      <td>18517215</td>\n",
       "    </tr>\n",
       "  </tbody>\n",
       "</table>\n",
       "</div>"
      ],
      "text/plain": [
       "   before_compress  after_compress\n",
       "0             1001           16165\n",
       "1             5008           81233\n",
       "2            10016          161339\n",
       "3            50162          806170\n",
       "4           100333         1611096\n",
       "5           279329         5640133\n",
       "6          1075874        18517215"
      ]
     },
     "execution_count": 25,
     "metadata": {},
     "output_type": "execute_result"
    }
   ],
   "source": [
    "pd_first_compressed1 = pd.DataFrame({\"before_compress\": first_data, \"after_compress\": compressed_data})\n",
    "pd_first_compressed1"
   ]
  },
  {
   "cell_type": "code",
   "execution_count": 26,
   "metadata": {},
   "outputs": [
    {
     "data": {
      "image/png": "[encoded data removed]",
      "text/plain": [
       "<Figure size 432x288 with 1 Axes>"
      ]
     },
     "metadata": {
      "needs_background": "light"
     },
     "output_type": "display_data"
    }
   ],
   "source": [
    "plt.title(\"Size of file\")\n",
    "plt.plot(pd_first_compressed1.iloc[:, 1], label=\"compressed\")\n",
    "plt.plot(pd_first_compressed1.iloc[:, 0], label=\"before compression\")\n",
    "plt.legend(loc=\"upper left\")\n",
    "plt.show()"
   ]
  },
  {
   "cell_type": "code",
   "execution_count": null,
   "metadata": {},
   "outputs": [],
   "source": []
  }
 ],
 "metadata": {
  "kernelspec": {
   "display_name": "Python 3 (ipykernel)",
   "language": "python",
   "name": "python3"
  },
  "language_info": {
   "codemirror_mode": {
    "name": "ipython",
    "version": 3
   },
   "file_extension": ".py",
   "mimetype": "text/x-python",
   "name": "python",
   "nbconvert_exporter": "python",
   "pygments_lexer": "ipython3",
   "version": "3.10.6"
  }
 },
 "nbformat": 4,
 "nbformat_minor": 1
}
